{
 "cells": [
  {
   "cell_type": "markdown",
   "metadata": {},
   "source": [
    "### Q2: Logistic Lasso Regression (5 Pts)\n",
    "By design, linear models are interpretable due to the weights that intuitively provide feature importance values. Further, we can perform l1 regularization to sparsify weights, allowing us to understand which features do not contribute to the outcome. For this question, fit a Lasso regression model with l1 regularization (1 Pt) on the dataset. Describe which preprocessing steps are crucial (1 Pt) to ensure comparability of feature coefficients. Provide performance metrics such as f1-score or balanced accuracy (1 Pt) to quantify the performance of this model. Visualize the importance of the different features and argue how they contribute to the model's output (1 Pt). Consider the following setting: A researcher is interested in the important variables and their influence on the label. They have fitted the Logistic Lasso Regression to determine the important variables. Then, they train a Logistic Regression solely on these variables and use this model to make conclusions. Elaborate why this would be a good or bad idea (1 Pt).\n"
   ]
  },
  {
   "cell_type": "markdown",
   "metadata": {},
   "source": [
    "Task 2: Logistic Lasso Regression"
   ]
  },
  {
   "cell_type": "code",
   "execution_count": null,
   "metadata": {},
   "outputs": [],
   "source": [
    "from sklearn.model_selection import train_test_split\n",
    "from sklearn.preprocessing import StandardScaler\n",
    "from sklearn.linear_model import LogisticRegressionCV\n",
    "\n",
    "# Split data into train and test sets\n",
    "X_train, X_test, y_train, y_test = train_test_split(X, y, test_size=0.2, random_state=42)\n",
    "\n",
    "# Scale features\n",
    "scaler = StandardScaler()\n",
    "X_train_scaled = scaler.fit_transform(X_train)\n",
    "X_test_scaled = scaler.transform(X_test)\n",
    "\n",
    "# Fit Lasso Regression model\n",
    "lasso_model = LogisticRegressionCV(penalty='l1', solver='liblinear', cv=5)\n",
    "lasso_model.fit(X_train_scaled, y_train)\n",
    "\n",
    "# Evaluate model\n",
    "from sklearn.metrics import f1_score, balanced_accuracy_score\n",
    "\n",
    "y_pred = lasso_model.predict(X_test_scaled)\n",
    "f1 = f1_score(y_test, y_pred)\n",
    "balanced_accuracy = balanced_accuracy_score(y_test, y_pred)\n",
    "\n",
    "print(\"F1 Score:\", f1)\n",
    "print(\"Balanced Accuracy:\", balanced_accuracy)\n"
   ]
  }
 ],
 "metadata": {
  "language_info": {
   "name": "python"
  }
 },
 "nbformat": 4,
 "nbformat_minor": 2
}
