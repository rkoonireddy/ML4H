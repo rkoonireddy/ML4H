{
 "cells": [
  {
   "cell_type": "markdown",
   "metadata": {},
   "source": [
    "## Q5: Data Randomization Test7 (3 Pts)\n",
    "\n",
    "The paper “Sanity Checks for Saliency Maps.” introduced the data randomization test to check the trustworthiness of the saliency maps of specific methods. They propose to retrain the classifier on the train set when randomly permuting labels of all samples. Then, they compare the saliency maps on test samples for the perturbed and unperturbed classifiers. We expect the map to change if an attribution map accurately captures the relationship between instances and their labels. Conversely, if the attribution map captures another concept, e.g., acts like an edge detector independent of the label, we expect the maps to stay the same. Read the paper and retrain your CNN on random training labels (1 Pt). Perform the Data randomization Test for both Integrated Gradients and Grad-CAM (1 Pt). Do they pass or fail? Elaborate and visualize your findings (1 Pt)!\n"
   ]
  },
  {
   "cell_type": "markdown",
   "metadata": {},
   "source": [
    "Task 5: Data Randomization Test"
   ]
  },
  {
   "cell_type": "code",
   "execution_count": null,
   "metadata": {},
   "outputs": [],
   "source": [
    "# Randomize labels\n",
    "import numpy as np\n",
    "\n",
    "random_labels = np.random.permutation(y_train)\n",
    "\n",
    "# Retrain models with randomized labels\n",
    "lasso_model.fit(X_train_scaled, random_labels)\n",
    "mlp_model.fit(X_train_scaled, random_labels)\n",
    "nam_model.fit(torch.FloatTensor(X_train_scaled), torch.FloatTensor(random_labels).view(-1, 1))\n",
    "\n",
    "# Evaluate models on test data\n",
    "y_pred_random_lasso = lasso_model.predict(X_test_scaled)\n",
    "y_pred_random_mlp = mlp_model.predict(X_test_scaled)\n",
    "with torch.no_grad():\n",
    "    outputs_random_nam = nam_model(torch.FloatTensor(X_test_scaled))\n",
    "    predictions_random_nam = torch.round(torch.sigmoid(outputs_random_nam)).numpy()\n",
    "\n",
    "# Perform Data Randomization Test\n",
    "#\n"
   ]
  },
  {
   "cell_type": "markdown",
   "metadata": {},
   "source": []
  },
  {
   "cell_type": "code",
   "execution_count": null,
   "metadata": {},
   "outputs": [],
   "source": []
  }
 ],
 "metadata": {
  "language_info": {
   "name": "python"
  }
 },
 "nbformat": 4,
 "nbformat_minor": 2
}
