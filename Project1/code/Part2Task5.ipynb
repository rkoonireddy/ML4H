{
 "cells": [
  {
   "cell_type": "markdown",
   "metadata": {},
   "source": [
    "Task 5: Data Randomization Test"
   ]
  },
  {
   "cell_type": "code",
   "execution_count": null,
   "metadata": {},
   "outputs": [],
   "source": [
    "# Randomize labels\n",
    "import numpy as np\n",
    "\n",
    "random_labels = np.random.permutation(y_train)\n",
    "\n",
    "# Retrain models with randomized labels\n",
    "lasso_model.fit(X_train_scaled, random_labels)\n",
    "mlp_model.fit(X_train_scaled, random_labels)\n",
    "nam_model.fit(torch.FloatTensor(X_train_scaled), torch.FloatTensor(random_labels).view(-1, 1))\n",
    "\n",
    "# Evaluate models on test data\n",
    "y_pred_random_lasso = lasso_model.predict(X_test_scaled)\n",
    "y_pred_random_mlp = mlp_model.predict(X_test_scaled)\n",
    "with torch.no_grad():\n",
    "    outputs_random_nam = nam_model(torch.FloatTensor(X_test_scaled))\n",
    "    predictions_random_nam = torch.round(torch.sigmoid(outputs_random_nam)).numpy()\n",
    "\n",
    "# Perform Data Randomization Test\n",
    "#\n"
   ]
  },
  {
   "cell_type": "markdown",
   "metadata": {},
   "source": []
  },
  {
   "cell_type": "code",
   "execution_count": null,
   "metadata": {},
   "outputs": [],
   "source": []
  }
 ],
 "metadata": {
  "language_info": {
   "name": "python"
  }
 },
 "nbformat": 4,
 "nbformat_minor": 2
}
