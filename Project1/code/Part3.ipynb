{
 "cells": [
  {
   "cell_type": "markdown",
   "metadata": {},
   "source": [
    "## Part 3: General Questions (8 Pts)\n",
    "\n",
    "To conclude, we ask you to answer the following questions to recap and reason about the project. Please answer each question for Part 1 and Part 2 separately.\n",
    "\n",
    "- Q1: How consistent were the different interpretable/explainable methods? Did they find similar patterns? (2 Pts)\n",
    "\n",
    "- Q2: Given the “interpretable” or “explainable” results of one of the models, how would you convince a doctor to trust them? Pick one example per part of the project. (2 Pts)\n",
    "\n",
    "- Q3: Elaborate whether the feature importances from the interpretability/explainability methods intuitively make sense to find the respective disease. (2 Pts)\n",
    "\n",
    "- Q4: If you had to deploy one of the methods in practice, which one would you choose and why? (2 Pts)\n"
   ]
  },
  {
   "cell_type": "code",
   "execution_count": null,
   "metadata": {},
   "outputs": [],
   "source": []
  }
 ],
 "metadata": {
  "language_info": {
   "name": "python"
  }
 },
 "nbformat": 4,
 "nbformat_minor": 2
}
