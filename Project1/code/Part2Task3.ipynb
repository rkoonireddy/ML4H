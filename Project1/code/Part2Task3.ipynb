{
 "cells": [
  {
   "cell_type": "markdown",
   "metadata": {},
   "source": [
    "## Q3: Integrated Gradients5 (5 Pts)\n",
    "\n",
    "Like MLPs, CNNs perform very well in tasks like classification, but lack interpretability due to their black-box nature. Like in part 1, post-hoc explainability methods are thus suitable alternatives. One class of post-hoc procedures specific to image data are methods that generate attribution maps that highlight the most important regions on which the CNN bases its predictions. For this part of the assignment, implement the integrated gradients method and visualize attribution maps of five healthy and five disease test samples (2 Pt). Do the maps highlight sensible regions (1 Pt)? Are attributions consistent across samples? (1 Pt) Does the choice of baseline input image have a big effect (1 Pt) on the attribution maps?"
   ]
  },
  {
   "cell_type": "code",
   "execution_count": null,
   "metadata": {},
   "outputs": [],
   "source": []
  }
 ],
 "metadata": {
  "language_info": {
   "name": "python"
  }
 },
 "nbformat": 4,
 "nbformat_minor": 2
}
