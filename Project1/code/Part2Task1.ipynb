{
 "cells": [
  {
   "cell_type": "markdown",
   "metadata": {},
   "source": [
    "# Part 2: Pneumonia Prediction Dataset (20 Pts)\n",
    "\n",
    "For Part 2, download the Kaggle Dataset Chest X-Ray Images (Pneumonia)4.\n",
    "\n",
    "## Q1: Exploratory Data Analysis (4 Pts)\n",
    "\n",
    "Download and explore the data. Explore the label distribution and qualitatively describe the data by plotting some examples for both labels (1 Pt). Do you see visual differences between healthy and disease samples? (1 Pt) Describe one potential source of bias that could influence model performance (1 Pt). How do you preprocess the data for your further analysis? (1 Pt)"
   ]
  },
  {
   "cell_type": "code",
   "execution_count": null,
   "metadata": {},
   "outputs": [],
   "source": []
  }
 ],
 "metadata": {
  "language_info": {
   "name": "python"
  }
 },
 "nbformat": 4,
 "nbformat_minor": 2
}
