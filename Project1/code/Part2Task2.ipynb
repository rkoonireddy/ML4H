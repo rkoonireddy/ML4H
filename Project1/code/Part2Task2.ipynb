{
 "cells": [
  {
   "cell_type": "markdown",
   "metadata": {},
   "source": [
    "## Q2: CNN Classifier (3 Pts)\n",
    "\n",
    "In Q3 and Q4, we will aim to use post-hoc explainability methods for visualizing the parts of the image that are important for the prediction of a model. To do that, first design a CNN classifier for the dataset (2 Pt) and report its performance on a test set (1 Pt)."
   ]
  },
  {
   "cell_type": "code",
   "execution_count": null,
   "metadata": {},
   "outputs": [],
   "source": []
  }
 ],
 "metadata": {
  "language_info": {
   "name": "python"
  }
 },
 "nbformat": 4,
 "nbformat_minor": 2
}
