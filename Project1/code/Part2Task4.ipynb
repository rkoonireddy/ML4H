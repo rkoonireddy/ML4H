{
 "cells": [
  {
   "cell_type": "markdown",
   "metadata": {},
   "source": [
    "## Q4: Grad-CAM6 (5 Pts)\n",
    "\n",
    "Grad-CAM is another post-hoc method that generates attribution maps. Like in Q3, implement the method and visualize attribution maps of five healthy and five disease test samples (2 Pt). Do the maps highlight sensible regions (1 Pt)? Are attributions consistent across samples? (1 Pt) Compare your findings with Q3. (1 Pt)\n",
    "\n",
    "4 Kermany et al., “Identifying Medical Diagnoses and Treatable Diseases by Image-Based Deep Learning.”  \n",
    "5 Sundararajan, Taly, and Yan, “Axiomatic Attribution for Deep Networks.”  \n",
    "6 Selvaraju et al., “Grad-Cam.”"
   ]
  },
  {
   "cell_type": "code",
   "execution_count": null,
   "metadata": {},
   "outputs": [],
   "source": []
  }
 ],
 "metadata": {
  "language_info": {
   "name": "python"
  }
 },
 "nbformat": 4,
 "nbformat_minor": 2
}
